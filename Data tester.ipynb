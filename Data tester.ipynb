{
 "cells": [
  {
   "cell_type": "code",
   "execution_count": 165,
   "id": "879d29a2",
   "metadata": {},
   "outputs": [],
   "source": [
    "import survey_routines as sr\n",
    "import pandas as pd\n",
    "import importlib\n"
   ]
  },
  {
   "cell_type": "code",
   "execution_count": 294,
   "id": "eccb8fbb",
   "metadata": {},
   "outputs": [
    {
     "data": {
      "text/plain": [
       "<module 'survey_routines' from 'C:\\\\GIT\\\\Parish-Survey\\\\survey_routines.py'>"
      ]
     },
     "execution_count": 294,
     "metadata": {},
     "output_type": "execute_result"
    }
   ],
   "source": [
    "importlib.reload(sr)"
   ]
  },
  {
   "cell_type": "code",
   "execution_count": 200,
   "id": "df0d9795",
   "metadata": {},
   "outputs": [],
   "source": [
    "table  = pd.read_csv('Parish Survey Data Entry 2024 v2  (Responses) - 21-9-24.csv', dtype='str')\n",
    "table.fillna('0', inplace=True)"
   ]
  },
  {
   "cell_type": "code",
   "execution_count": 11,
   "id": "2066882a",
   "metadata": {},
   "outputs": [
    {
     "data": {
      "text/html": [
       "<div>\n",
       "<style scoped>\n",
       "    .dataframe tbody tr th:only-of-type {\n",
       "        vertical-align: middle;\n",
       "    }\n",
       "\n",
       "    .dataframe tbody tr th {\n",
       "        vertical-align: top;\n",
       "    }\n",
       "\n",
       "    .dataframe thead th {\n",
       "        text-align: right;\n",
       "    }\n",
       "</style>\n",
       "<table border=\"1\" class=\"dataframe\">\n",
       "  <thead>\n",
       "    <tr style=\"text-align: right;\">\n",
       "      <th></th>\n",
       "      <th>Timestamp</th>\n",
       "      <th>Data Operator Initials</th>\n",
       "      <th>Q1</th>\n",
       "      <th>Q2</th>\n",
       "      <th>Q3</th>\n",
       "      <th>Q4</th>\n",
       "      <th>Q5 (a)</th>\n",
       "      <th>Q5 (b)</th>\n",
       "      <th>Q5 (c)</th>\n",
       "      <th>Q6</th>\n",
       "      <th>...</th>\n",
       "      <th>Q18</th>\n",
       "      <th>Q19</th>\n",
       "      <th>Q20</th>\n",
       "      <th>Q21</th>\n",
       "      <th>Q22</th>\n",
       "      <th>Q23</th>\n",
       "      <th>Q24</th>\n",
       "      <th>Q25</th>\n",
       "      <th>Q26</th>\n",
       "      <th>Q27</th>\n",
       "    </tr>\n",
       "  </thead>\n",
       "  <tbody>\n",
       "    <tr>\n",
       "      <th>0</th>\n",
       "      <td>9/19/2024 18:20:30</td>\n",
       "      <td>GP</td>\n",
       "      <td>1</td>\n",
       "      <td>2</td>\n",
       "      <td>8</td>\n",
       "      <td>1</td>\n",
       "      <td>1.0</td>\n",
       "      <td>1.0</td>\n",
       "      <td>1.0</td>\n",
       "      <td>2</td>\n",
       "      <td>...</td>\n",
       "      <td>2</td>\n",
       "      <td>2</td>\n",
       "      <td>2</td>\n",
       "      <td>0</td>\n",
       "      <td>2</td>\n",
       "      <td>1</td>\n",
       "      <td>2</td>\n",
       "      <td>RICCARTON</td>\n",
       "      <td>9</td>\n",
       "      <td>0</td>\n",
       "    </tr>\n",
       "    <tr>\n",
       "      <th>1</th>\n",
       "      <td>9/19/2024 18:19:36</td>\n",
       "      <td>GP</td>\n",
       "      <td>3</td>\n",
       "      <td>0</td>\n",
       "      <td>BAPTISM SERMON</td>\n",
       "      <td>1</td>\n",
       "      <td>9.0</td>\n",
       "      <td>5.0</td>\n",
       "      <td>2.0</td>\n",
       "      <td>2</td>\n",
       "      <td>...</td>\n",
       "      <td>2</td>\n",
       "      <td>1</td>\n",
       "      <td>6</td>\n",
       "      <td>9</td>\n",
       "      <td>4</td>\n",
       "      <td>5</td>\n",
       "      <td>1</td>\n",
       "      <td>ILAM</td>\n",
       "      <td>9</td>\n",
       "      <td>0</td>\n",
       "    </tr>\n",
       "    <tr>\n",
       "      <th>2</th>\n",
       "      <td>9/19/2024 18:18:26</td>\n",
       "      <td>GP</td>\n",
       "      <td>1</td>\n",
       "      <td>5</td>\n",
       "      <td>4</td>\n",
       "      <td>2</td>\n",
       "      <td>3.0</td>\n",
       "      <td>2.0</td>\n",
       "      <td>8.0</td>\n",
       "      <td>2</td>\n",
       "      <td>...</td>\n",
       "      <td>2</td>\n",
       "      <td>2</td>\n",
       "      <td>5</td>\n",
       "      <td>9</td>\n",
       "      <td>3</td>\n",
       "      <td>6</td>\n",
       "      <td>3</td>\n",
       "      <td>RICCARTON</td>\n",
       "      <td>9</td>\n",
       "      <td>0</td>\n",
       "    </tr>\n",
       "    <tr>\n",
       "      <th>3</th>\n",
       "      <td>9/19/2024 18:17:16</td>\n",
       "      <td>GP</td>\n",
       "      <td>0</td>\n",
       "      <td>5</td>\n",
       "      <td>1</td>\n",
       "      <td>1</td>\n",
       "      <td>0.0</td>\n",
       "      <td>0.0</td>\n",
       "      <td>7.0</td>\n",
       "      <td>2</td>\n",
       "      <td>...</td>\n",
       "      <td>3</td>\n",
       "      <td>1</td>\n",
       "      <td>4</td>\n",
       "      <td>9</td>\n",
       "      <td>2</td>\n",
       "      <td>2</td>\n",
       "      <td>1</td>\n",
       "      <td>CANTURBURY</td>\n",
       "      <td>9</td>\n",
       "      <td>0</td>\n",
       "    </tr>\n",
       "    <tr>\n",
       "      <th>4</th>\n",
       "      <td>9/19/2024 18:16:16</td>\n",
       "      <td>GP</td>\n",
       "      <td>3</td>\n",
       "      <td>0</td>\n",
       "      <td>8</td>\n",
       "      <td>1</td>\n",
       "      <td>8.0</td>\n",
       "      <td>8.0</td>\n",
       "      <td>8.0</td>\n",
       "      <td>2</td>\n",
       "      <td>...</td>\n",
       "      <td>1</td>\n",
       "      <td>1</td>\n",
       "      <td>6</td>\n",
       "      <td>SOLOMON ISLANDS</td>\n",
       "      <td>2</td>\n",
       "      <td>6</td>\n",
       "      <td>2</td>\n",
       "      <td>RICCARTON</td>\n",
       "      <td>9</td>\n",
       "      <td>0</td>\n",
       "    </tr>\n",
       "  </tbody>\n",
       "</table>\n",
       "<p>5 rows × 33 columns</p>\n",
       "</div>"
      ],
      "text/plain": [
       "            Timestamp Data Operator Initials Q1 Q2              Q3 Q4  Q5 (a)  \\\n",
       "0  9/19/2024 18:20:30                     GP  1  2               8  1     1.0   \n",
       "1  9/19/2024 18:19:36                     GP  3  0  BAPTISM SERMON  1     9.0   \n",
       "2  9/19/2024 18:18:26                     GP  1  5               4  2     3.0   \n",
       "3  9/19/2024 18:17:16                     GP  0  5               1  1     0.0   \n",
       "4  9/19/2024 18:16:16                     GP  3  0               8  1     8.0   \n",
       "\n",
       "   Q5 (b)  Q5 (c)  Q6  ...  Q18  Q19 Q20              Q21  Q22  Q23 Q24  \\\n",
       "0     1.0     1.0   2  ...    2    2   2                0    2    1   2   \n",
       "1     5.0     2.0   2  ...    2    1   6                9    4    5   1   \n",
       "2     2.0     8.0   2  ...    2    2   5                9    3    6   3   \n",
       "3     0.0     7.0   2  ...    3    1   4                9    2    2   1   \n",
       "4     8.0     8.0   2  ...    1    1   6  SOLOMON ISLANDS    2    6   2   \n",
       "\n",
       "          Q25 Q26 Q27  \n",
       "0   RICCARTON   9   0  \n",
       "1        ILAM   9   0  \n",
       "2   RICCARTON   9   0  \n",
       "3  CANTURBURY   9   0  \n",
       "4   RICCARTON   9   0  \n",
       "\n",
       "[5 rows x 33 columns]"
      ]
     },
     "execution_count": 11,
     "metadata": {},
     "output_type": "execute_result"
    }
   ],
   "source": [
    "table.head()"
   ]
  },
  {
   "cell_type": "code",
   "execution_count": 34,
   "id": "b01a7fc9",
   "metadata": {},
   "outputs": [
    {
     "data": {
      "text/plain": [
       "['3', ' 4']"
      ]
     },
     "execution_count": 34,
     "metadata": {},
     "output_type": "execute_result"
    }
   ],
   "source": [
    "s = ', '\n",
    "s.join(a[2:]).split(',')"
   ]
  },
  {
   "cell_type": "code",
   "execution_count": 40,
   "id": "a1e62103",
   "metadata": {},
   "outputs": [
    {
     "data": {
      "text/plain": [
       "True"
      ]
     },
     "execution_count": 40,
     "metadata": {},
     "output_type": "execute_result"
    }
   ],
   "source": [
    "'67'.isnumeric()"
   ]
  },
  {
   "cell_type": "code",
   "execution_count": 171,
   "id": "bd78348e",
   "metadata": {},
   "outputs": [
    {
     "ename": "EntryException",
     "evalue": "Bad data entry: 1.0",
     "output_type": "error",
     "traceback": [
      "\u001b[1;31m---------------------------------------------------------------------------\u001b[0m",
      "\u001b[1;31mAttributeError\u001b[0m                            Traceback (most recent call last)",
      "File \u001b[1;32mC:\\GIT\\Parish-Survey\\survey_routines.py:16\u001b[0m, in \u001b[0;36mcheck_data\u001b[1;34m(data, upper_val, lower_val, allow_multi, allow_text, text_no)\u001b[0m\n\u001b[0;32m     15\u001b[0m else: \n\u001b[1;32m---> 16\u001b[0m     return data\n\u001b[0;32m     17\u001b[0m \n",
      "\u001b[1;31mAttributeError\u001b[0m: 'float' object has no attribute 'isnumeric'",
      "\nDuring handling of the above exception, another exception occurred:\n",
      "\u001b[1;31mEntryException\u001b[0m                            Traceback (most recent call last)",
      "Cell \u001b[1;32mIn[171], line 2\u001b[0m\n\u001b[0;32m      1\u001b[0m \u001b[38;5;28minput\u001b[39m \u001b[38;5;241m=\u001b[39m \u001b[38;5;241m1.0\u001b[39m\n\u001b[1;32m----> 2\u001b[0m \u001b[43msr\u001b[49m\u001b[38;5;241;43m.\u001b[39;49m\u001b[43mcheck_data\u001b[49m\u001b[43m(\u001b[49m\u001b[38;5;28;43minput\u001b[39;49m\u001b[43m,\u001b[49m\u001b[43m \u001b[49m\u001b[38;5;241;43m6\u001b[39;49m\u001b[43m,\u001b[49m\u001b[38;5;241;43m0\u001b[39;49m\u001b[43m,\u001b[49m\u001b[38;5;28;43;01mTrue\u001b[39;49;00m\u001b[43m,\u001b[49m\u001b[38;5;28;43;01mTrue\u001b[39;49;00m\u001b[43m,\u001b[49m\u001b[43m \u001b[49m\u001b[38;5;241;43m7\u001b[39;49m\u001b[43m)\u001b[49m\n",
      "File \u001b[1;32mC:\\GIT\\Parish-Survey\\survey_routines.py:22\u001b[0m, in \u001b[0;36mcheck_data\u001b[1;34m(data, upper_val, lower_val, allow_multi, allow_text, text_no)\u001b[0m\n\u001b[0;32m     20\u001b[0m if not(allow_multi):\n\u001b[0;32m     21\u001b[0m     if bits[0].isnumeric() or not(allow_text):\n\u001b[1;32m---> 22\u001b[0m         raise UserException(f\"Bad user entry: {data}\")\n\u001b[0;32m     23\u001b[0m     else: \n\u001b[0;32m     24\u001b[0m         return data\n",
      "\u001b[1;31mEntryException\u001b[0m: Bad data entry: 1.0"
     ]
    }
   ],
   "source": [
    "input = 1.0\n",
    "sr.check_data(input, 6,0,True,True, 7)"
   ]
  },
  {
   "cell_type": "code",
   "execution_count": 193,
   "id": "27ff2a6e",
   "metadata": {},
   "outputs": [
    {
     "data": {
      "text/plain": [
       "'5,6'"
      ]
     },
     "execution_count": 193,
     "metadata": {},
     "output_type": "execute_result"
    }
   ],
   "source": [
    "table['Q12'].loc[6]"
   ]
  },
  {
   "cell_type": "code",
   "execution_count": 67,
   "id": "dae8f3ca",
   "metadata": {},
   "outputs": [],
   "source": [
    "cols = table.columns"
   ]
  },
  {
   "cell_type": "code",
   "execution_count": 71,
   "id": "108a1eb5",
   "metadata": {},
   "outputs": [
    {
     "data": {
      "text/plain": [
       "Index(['Timestamp', 'Data Operator Initials', 'Q1', 'Q2', 'Q3', 'Q4', 'Q5 (a)',\n",
       "       'Q5 (b)', 'Q5 (c)', 'Q6', 'Q7', 'Q8', 'Q9', 'Q10 (a)', 'Q10 (b)',\n",
       "       'Q10 (c)', 'Q11', 'Q12', 'Q13', 'Q14', 'Q15', 'Q16', 'Q17', 'Q18',\n",
       "       'Q19', 'Q20', 'Q21', 'Q22', 'Q23', 'Q24', 'Q25', 'Q26', 'Q27'],\n",
       "      dtype='object')"
      ]
     },
     "execution_count": 71,
     "metadata": {},
     "output_type": "execute_result"
    }
   ],
   "source": [
    "cols"
   ]
  },
  {
   "cell_type": "code",
   "execution_count": 69,
   "id": "f549e051",
   "metadata": {},
   "outputs": [],
   "source": [
    "params = pd.DataFrame(columns=cols)"
   ]
  },
  {
   "cell_type": "code",
   "execution_count": 70,
   "id": "f3a14f04",
   "metadata": {},
   "outputs": [
    {
     "data": {
      "text/html": [
       "<div>\n",
       "<style scoped>\n",
       "    .dataframe tbody tr th:only-of-type {\n",
       "        vertical-align: middle;\n",
       "    }\n",
       "\n",
       "    .dataframe tbody tr th {\n",
       "        vertical-align: top;\n",
       "    }\n",
       "\n",
       "    .dataframe thead th {\n",
       "        text-align: right;\n",
       "    }\n",
       "</style>\n",
       "<table border=\"1\" class=\"dataframe\">\n",
       "  <thead>\n",
       "    <tr style=\"text-align: right;\">\n",
       "      <th></th>\n",
       "      <th>Timestamp</th>\n",
       "      <th>Data Operator Initials</th>\n",
       "      <th>Q1</th>\n",
       "      <th>Q2</th>\n",
       "      <th>Q3</th>\n",
       "      <th>Q4</th>\n",
       "      <th>Q5 (a)</th>\n",
       "      <th>Q5 (b)</th>\n",
       "      <th>Q5 (c)</th>\n",
       "      <th>Q6</th>\n",
       "      <th>...</th>\n",
       "      <th>Q18</th>\n",
       "      <th>Q19</th>\n",
       "      <th>Q20</th>\n",
       "      <th>Q21</th>\n",
       "      <th>Q22</th>\n",
       "      <th>Q23</th>\n",
       "      <th>Q24</th>\n",
       "      <th>Q25</th>\n",
       "      <th>Q26</th>\n",
       "      <th>Q27</th>\n",
       "    </tr>\n",
       "  </thead>\n",
       "  <tbody>\n",
       "  </tbody>\n",
       "</table>\n",
       "<p>0 rows × 33 columns</p>\n",
       "</div>"
      ],
      "text/plain": [
       "Empty DataFrame\n",
       "Columns: [Timestamp, Data Operator Initials, Q1, Q2, Q3, Q4, Q5 (a), Q5 (b), Q5 (c), Q6, Q7, Q8, Q9, Q10 (a), Q10 (b), Q10 (c), Q11, Q12, Q13, Q14, Q15, Q16, Q17, Q18, Q19, Q20, Q21, Q22, Q23, Q24, Q25, Q26, Q27]\n",
       "Index: []\n",
       "\n",
       "[0 rows x 33 columns]"
      ]
     },
     "execution_count": 70,
     "metadata": {},
     "output_type": "execute_result"
    }
   ],
   "source": [
    "params"
   ]
  },
  {
   "cell_type": "code",
   "execution_count": 278,
   "id": "7d163d42",
   "metadata": {},
   "outputs": [],
   "source": [
    "params.at[0,'Q1'] = [6,0,False,False,0]\n",
    "params.at[0,'Q2'] = [6,0,False,False,0]\n",
    "params.at[0,'Q3'] = [8,0,True,True,7]\n",
    "params.at[0,'Q4'] = [6,0,False,False,0]\n",
    "params.at[0,'Q5 (a)'] = [9,0,False,False,0]\n",
    "params.at[0,'Q5 (b)'] = [9,0,False,False,0]\n",
    "params.at[0,'Q5 (c)'] = [9,0,False,False,0]\n",
    "params.at[0,'Q6'] = [2,0,False,False,0]\n",
    "params.at[0,'Q7'] = [2,0,False,False,0]\n",
    "params.at[0,'Q8'] = [2,0,False,False,0]\n",
    "params.at[0,'Q9'] = [7,0,True,False,0]\n",
    "params.at[0,'Q10 (a)'] = [9,0,False,False,0]\n",
    "params.at[0,'Q10 (b)'] = [9,0,False,False,0]\n",
    "params.at[0,'Q10 (c)'] = [9,0,False,False,0]\n",
    "params.at[0,'Q11'] = [5,0,False,False,0]\n",
    "params.at[0,'Q12'] = [6,0,False,False,0]\n",
    "params.at[0,'Q13'] = [4,0,False,False,0]\n",
    "params.at[0,'Q14'] = [6,0,True,True,5]\n",
    "params.at[0,'Q15'] = [2,0,False,False,0]\n",
    "params.at[0,'Q16'] = [2,0,False,False,0]\n",
    "params.at[0,'Q17'] = [9,0,False,False,0]\n",
    "params.at[0,'Q18'] = [8,0,False,False,0]\n",
    "params.at[0,'Q19'] = [2,0,False,False,0]\n",
    "params.at[0,'Q20'] = [7,0,False,True,7]\n",
    "params.at[0,'Q21'] = [10,0,True,True,10]\n",
    "params.at[0,'Q22'] = [4,0,False,False,0]\n",
    "params.at[0,'Q23'] = [6,0,False,False,0]\n",
    "params.at[0,'Q24'] = [7,0,False,True,7]\n",
    "params.at[0,'Q25'] = [0,0,False,True,1]\n",
    "params.at[0,'Q26'] = [9,1,False,False,0]\n",
    "params.at[0,'Q27'] = [0,0,False,True,1]\n"
   ]
  },
  {
   "cell_type": "code",
   "execution_count": 168,
   "id": "02c0d64e",
   "metadata": {},
   "outputs": [],
   "source": [
    "params.at[0,'Q27'] = [6,0,False,False,0]\n"
   ]
  },
  {
   "cell_type": "code",
   "execution_count": 164,
   "id": "2204a730",
   "metadata": {},
   "outputs": [
    {
     "ename": "AttributeError",
     "evalue": "'int' object has no attribute 'isnumeric'",
     "output_type": "error",
     "traceback": [
      "\u001b[1;31m---------------------------------------------------------------------------\u001b[0m",
      "\u001b[1;31mAttributeError\u001b[0m                            Traceback (most recent call last)",
      "Cell \u001b[1;32mIn[164], line 2\u001b[0m\n\u001b[0;32m      1\u001b[0m c \u001b[38;5;241m=\u001b[39m \u001b[38;5;241m1\u001b[39m\n\u001b[1;32m----> 2\u001b[0m \u001b[43mc\u001b[49m\u001b[38;5;241;43m.\u001b[39;49m\u001b[43misnumeric\u001b[49m()\n",
      "\u001b[1;31mAttributeError\u001b[0m: 'int' object has no attribute 'isnumeric'"
     ]
    }
   ],
   "source": [
    "c = 1\n",
    "c.isnumeric()"
   ]
  },
  {
   "cell_type": "code",
   "execution_count": 104,
   "id": "61ec5d90",
   "metadata": {},
   "outputs": [
    {
     "data": {
      "text/html": [
       "<div>\n",
       "<style scoped>\n",
       "    .dataframe tbody tr th:only-of-type {\n",
       "        vertical-align: middle;\n",
       "    }\n",
       "\n",
       "    .dataframe tbody tr th {\n",
       "        vertical-align: top;\n",
       "    }\n",
       "\n",
       "    .dataframe thead th {\n",
       "        text-align: right;\n",
       "    }\n",
       "</style>\n",
       "<table border=\"1\" class=\"dataframe\">\n",
       "  <thead>\n",
       "    <tr style=\"text-align: right;\">\n",
       "      <th></th>\n",
       "      <th>Timestamp</th>\n",
       "      <th>Data Operator Initials</th>\n",
       "      <th>Q1</th>\n",
       "      <th>Q2</th>\n",
       "      <th>Q3</th>\n",
       "      <th>Q4</th>\n",
       "      <th>Q5 (a)</th>\n",
       "      <th>Q5 (b)</th>\n",
       "      <th>Q5 (c)</th>\n",
       "      <th>Q6</th>\n",
       "      <th>...</th>\n",
       "      <th>Q18</th>\n",
       "      <th>Q19</th>\n",
       "      <th>Q20</th>\n",
       "      <th>Q21</th>\n",
       "      <th>Q22</th>\n",
       "      <th>Q23</th>\n",
       "      <th>Q24</th>\n",
       "      <th>Q25</th>\n",
       "      <th>Q26</th>\n",
       "      <th>Q27</th>\n",
       "    </tr>\n",
       "  </thead>\n",
       "  <tbody>\n",
       "    <tr>\n",
       "      <th>0</th>\n",
       "      <td>NaN</td>\n",
       "      <td>NaN</td>\n",
       "      <td>[6, 0, False, False, 0]</td>\n",
       "      <td>[6, 0, False, False, 0]</td>\n",
       "      <td>[8, 0, True, True, 7]</td>\n",
       "      <td>[6, 0, False, False, 0]</td>\n",
       "      <td>[9, 0, False, False, 0]</td>\n",
       "      <td>[9, 0, False, False, 0]</td>\n",
       "      <td>[9, 0, False, False, 0]</td>\n",
       "      <td>[2, 0, False, False, 0]</td>\n",
       "      <td>...</td>\n",
       "      <td>[8, 0, False, False, 0]</td>\n",
       "      <td>[2, 0, False, False, 0]</td>\n",
       "      <td>[7, 0, False, True, 7]</td>\n",
       "      <td>[10, 0, True, True, 10]</td>\n",
       "      <td>[4, 0, False, False, 0]</td>\n",
       "      <td>[6, 0, False, False, 0]</td>\n",
       "      <td>[7, 0, False, True, 7]</td>\n",
       "      <td>[-1, 0, False, True, 0]</td>\n",
       "      <td>[9, 1, False, False, 0]</td>\n",
       "      <td>[-1, 0, False, True, 0]</td>\n",
       "    </tr>\n",
       "  </tbody>\n",
       "</table>\n",
       "<p>1 rows × 33 columns</p>\n",
       "</div>"
      ],
      "text/plain": [
       "  Timestamp Data Operator Initials                       Q1  \\\n",
       "0       NaN                    NaN  [6, 0, False, False, 0]   \n",
       "\n",
       "                        Q2                     Q3                       Q4  \\\n",
       "0  [6, 0, False, False, 0]  [8, 0, True, True, 7]  [6, 0, False, False, 0]   \n",
       "\n",
       "                    Q5 (a)                   Q5 (b)                   Q5 (c)  \\\n",
       "0  [9, 0, False, False, 0]  [9, 0, False, False, 0]  [9, 0, False, False, 0]   \n",
       "\n",
       "                        Q6  ...                      Q18  \\\n",
       "0  [2, 0, False, False, 0]  ...  [8, 0, False, False, 0]   \n",
       "\n",
       "                       Q19                     Q20                      Q21  \\\n",
       "0  [2, 0, False, False, 0]  [7, 0, False, True, 7]  [10, 0, True, True, 10]   \n",
       "\n",
       "                       Q22                      Q23                     Q24  \\\n",
       "0  [4, 0, False, False, 0]  [6, 0, False, False, 0]  [7, 0, False, True, 7]   \n",
       "\n",
       "                       Q25                      Q26                      Q27  \n",
       "0  [-1, 0, False, True, 0]  [9, 1, False, False, 0]  [-1, 0, False, True, 0]  \n",
       "\n",
       "[1 rows x 33 columns]"
      ]
     },
     "execution_count": 104,
     "metadata": {},
     "output_type": "execute_result"
    }
   ],
   "source": [
    "params"
   ]
  },
  {
   "cell_type": "code",
   "execution_count": 201,
   "id": "74e07797",
   "metadata": {},
   "outputs": [
    {
     "data": {
      "text/plain": [
       "'0'"
      ]
     },
     "execution_count": 201,
     "metadata": {},
     "output_type": "execute_result"
    }
   ],
   "source": [
    "table['Q27'].loc[140]"
   ]
  },
  {
   "cell_type": "code",
   "execution_count": 403,
   "id": "ebac6739",
   "metadata": {},
   "outputs": [
    {
     "name": "stdout",
     "output_type": "stream",
     "text": [
      "0\n",
      "User Exception! col:Q12, row: 6, data:5,6\n",
      "User Exception! col:Q20, row: 14, data:2,3\n",
      "User Exception! col:Q24, row: 14, data:2,3\n",
      "User Exception! col:Q22, row: 19, data:1,3\n",
      "User Exception! col:Q22, row: 20, data:2,3,4\n",
      "User Exception! col:Q12, row: 32, data:2,3\n",
      "Entry Exception! col:Q26, row: 35, data:0\n",
      "User Exception! col:Q20, row: 36, data:1,5\n",
      "Entry Exception! col:Q26, row: 36, data:0\n",
      "Entry Exception! col:Q6, row: 37, data:91\n",
      "User Exception! col:Q12, row: 37, data:2,3\n",
      "Entry Exception! col:Q26, row: 38, data:0\n",
      "Entry Exception! col:Q26, row: 42, data:0\n",
      "Entry Exception! col:Q26, row: 44, data:0\n",
      "User Exception! col:Q12, row: 46, data:5,6\n",
      "User Exception! col:Q24, row: 47, data:2,3\n",
      "User Exception! col:Q2, row: 52, data:4,5\n",
      "User Exception! col:Q24, row: 56, data:2,3\n",
      "User Exception! col:Q24, row: 62, data:1,2\n",
      "User Exception! col:Q2, row: 69, data:4,5\n",
      "User Exception! col:Q22, row: 69, data:3,4\n",
      "Entry Exception! col:Q26, row: 72, data:0\n",
      "Entry Exception! col:Q26, row: 73, data:0\n",
      "Entry Exception! col:Q26, row: 85, data:0\n",
      "User Exception! col:Q23, row: 91, data:1,6\n",
      "100\n",
      "User Exception! col:Q2, row: 109, data:4,5\n",
      "Entry Exception! col:Q26, row: 111, data:0\n",
      "User Exception! col:Q24, row: 113, data:2,3\n",
      "User Exception! col:Q24, row: 116, data:2,6\n",
      "User Exception! col:Q24, row: 128, data:2,3\n",
      "User Exception! col:Q22, row: 129, data:2,4\n",
      "User Exception! col:Q12, row: 135, data:1,2\n",
      "Entry Exception! col:Q26, row: 137, data:0\n",
      "Entry Exception! col:Q26, row: 138, data:0\n",
      "User Exception! col:Q20, row: 143, data:4,6\n",
      "Entry Exception! col:Q26, row: 166, data:0\n",
      "Entry Exception! col:Q26, row: 172, data:0\n",
      "User Exception! col:Q26, row: 180, data:2,9\n",
      "Entry Exception! col:Q9, row: 193, data:1.2.3.4.5\n",
      "User Exception! col:Q24, row: 194, data:2,3\n",
      "200\n",
      "Entry Exception! col:Q24, row: 208, data:8\n",
      "Entry Exception! col:Q26, row: 211, data:0\n",
      "User Exception! col:Q10 (a), row: 228, data:7,8\n",
      "User Exception! col:Q24, row: 234, data:1,2\n",
      "Entry Exception! col:Q25, row: 236, data:8042\n",
      "Entry Exception! col:Q26, row: 240, data:0\n",
      "Entry Exception! col:Q10 (a), row: 251, data:7,\n",
      "Entry Exception! col:Q9, row: 280, data:1,22,3,4\n",
      "User Exception! col:Q2, row: 286, data:1,2,3,4,5\n",
      "Entry Exception! col:Q26, row: 298, data:0\n",
      "300\n",
      "Entry Exception! col:Q13, row: 316, data:5\n",
      "Entry Exception! col:Q15, row: 316, data:6\n",
      "Entry Exception! col:Q25, row: 318, data:6\n",
      "Entry Exception! col:Q26, row: 318, data:0\n",
      "Entry Exception! col:Q9, row: 334, data:27\n",
      "Entry Exception! col:Q4, row: 346, data:11\n",
      "Entry Exception! col:Q1, row: 355, data:80 Years\n",
      "User Exception! col:Q24, row: 357, data:3,5\n",
      "Entry Exception! col:Q25, row: 364, data:6\n",
      "Entry Exception! col:Q9, row: 373, data:9\n",
      "Entry Exception! col:Q26, row: 373, data:0\n",
      "Entry Exception! col:Q9, row: 384, data:1,2,3,3,4\n",
      "Entry Exception! col:Q22, row: 390, data:6\n",
      "Entry Exception! col:Q20, row: 395, data:8\n",
      "Entry Exception! col:Q9, row: 399, data:1,23,4,5\n",
      "Entry Exception! col:Q22, row: 399, data:5\n",
      "400\n",
      "Entry Exception! col:Q26, row: 427, data:0\n",
      "Entry Exception! col:Q26, row: 428, data:0\n",
      "Entry Exception! col:Q6, row: 470, data:3\n",
      "Entry Exception! col:Q7, row: 470, data:3\n",
      "Entry Exception! col:Q8, row: 470, data:3\n",
      "Entry Exception! col:Q26, row: 479, data:0\n",
      "500\n",
      "Entry Exception! col:Q23, row: 512, data:8\n",
      "Entry Exception! col:Q15, row: 519, data:1 bible and i don't have enough faith to be an atheist\n",
      "User Exception! col:Q2, row: 520, data:2,5\n",
      "Entry Exception! col:Q26, row: 525, data:0\n",
      "Entry Exception! col:Q26, row: 540, data:0\n",
      "User Exception! col:Q26, row: 546, data:2,4\n",
      "Entry Exception! col:Q22, row: 554, data:5\n",
      "Entry Exception! col:Q11, row: 557, data:92\n",
      "User Exception! col:Q24, row: 557, data:1,5\n",
      "User Exception! col:Q24, row: 560, data:3,5\n",
      "Entry Exception! col:Q6, row: 584, data:3\n",
      "Entry Exception! col:Q7, row: 584, data:3\n",
      "Entry Exception! col:Q2, row: 585, data:8\n",
      "Entry Exception! col:Q13, row: 593, data:6\n",
      "Entry Exception! col:Q26, row: 599, data:0\n",
      "600\n",
      "User Exception! col:Q12, row: 601, data:5,6\n",
      "User Exception! col:Q26, row: 603, data:2,4\n",
      "User Exception! col:Q10 (a), row: 615, data:5,5,5\n",
      "User Exception! col:Q9, row: 616, data:1,2,3,4,,5\n",
      "User Exception! col:Q9, row: 622, data:1,2,,4,5\n",
      "User Exception! col:Q12, row: 632, data:2,5\n",
      "Entry Exception! col:Q3, row: 635, data:1,2,3,4,4\n",
      "Entry Exception! col:Q25, row: 649, data:4\n",
      "Entry Exception! col:Q26, row: 661, data:0\n",
      "Entry Exception! col:Q26, row: 664, data:0\n",
      "Entry Exception! col:Q26, row: 665, data:0\n",
      "User Exception! col:Q9, row: 676, data:,2,3,4,5\n",
      "Entry Exception! col:Q14, row: 681, data:9\n",
      "Entry Exception! col:Q26, row: 682, data:0\n",
      "700\n",
      "Entry Exception! col:Q26, row: 702, data:0\n",
      "Entry Exception! col:Q26, row: 716, data:0\n",
      "User Exception! col:Q2, row: 727, data:5,6\n",
      "Entry Exception! col:Q25, row: 747, data:1\n",
      "Entry Exception! col:Q26, row: 747, data:rolleston\n",
      "Entry Exception! col:Q26, row: 762, data:0\n",
      "Entry Exception! col:Q13, row: 766, data:5\n",
      "Entry Exception! col:Q25, row: 787, data:3\n",
      "Entry Exception! col:Q26, row: 787, data:Hei Hei\n",
      "Entry Exception! col:Q27, row: 787, data:5\n",
      "Entry Exception! col:Q26, row: 791, data:0\n",
      "Entry Exception! col:Q26, row: 797, data:0\n",
      "800\n",
      "Entry Exception! col:Q26, row: 801, data:0\n",
      "Entry Exception! col:Q11, row: 820, data:0 First Sunday today\n",
      "Entry Exception! col:Q26, row: 846, data:MY HUSBAND ASK THE INFORMATIONS ON THE EMAIL ABOUT GETTING MY CHURCH WEDDING BUT UNTIL NOW NO REPLY\n",
      "User Exception! col:Q24, row: 850, data:4,5\n",
      "Entry Exception! col:Q24, row: 867, data:8\n",
      "900\n",
      "User Exception! col:Q4, row: 902, data:4,5\n",
      "Entry Exception! col:Q20, row: 920, data:8\n",
      "Entry Exception! col:Q26, row: 921, data:0\n",
      "Entry Exception! col:Q26, row: 931, data:0\n",
      "Entry Exception! col:Q27, row: 931, data:5\n",
      "User Exception! col:Q13, row: 933, data:2,3\n",
      "User Exception! col:Q24, row: 933, data:3,4\n",
      "Entry Exception! col:Q26, row: 945, data:0\n",
      "User Exception! col:Q24, row: 949, data:2,3\n",
      "Entry Exception! col:Q26, row: 955, data:0\n",
      "User Exception! col:Q22, row: 968, data:3,4\n",
      "User Exception! col:Q24, row: 972, data:1,2\n",
      "User Exception! col:Q12, row: 989, data:4,5\n",
      "Entry Exception! col:Q11, row: 995, data:12\n",
      "1000\n",
      "Entry Exception! col:Q23, row: 1009, data:9\n",
      "Entry Exception! col:Q26, row: 1010, data:0\n",
      "Entry Exception! col:Q19, row: 1011, data:4\n",
      "Entry Exception! col:Q22, row: 1011, data:8\n",
      "Entry Exception! col:Q26, row: 1011, data:0\n",
      "Entry Exception! col:Q27, row: 1011, data:5\n",
      "Entry Exception! col:Q9, row: 1014, data:1M2M3M4M5\n",
      "Entry Exception! col:Q1, row: 1015, data:8\n",
      "Entry Exception! col:Q19, row: 1018, data:8\n",
      "Entry Exception! col:Q20, row: 1019, data:8\n",
      "User Exception! col:Q4, row: 1020, data:4,5\n",
      "User Exception! col:Q12, row: 1022, data:2,5\n",
      "Entry Exception! col:Q26, row: 1028, data:0\n",
      "Entry Exception! col:Q26, row: 1031, data:0\n",
      "Entry Exception! col:Q20, row: 1050, data:8\n",
      "Entry Exception! col:Q26, row: 1060, data:0\n",
      "User Exception! col:Q22, row: 1064, data:3,4\n",
      "Entry Exception! col:Q26, row: 1067, data:0\n",
      "Entry Exception! col:Q11, row: 1070, data:10\n",
      "Entry Exception! col:Q17, row: 1077, data:0=9\n",
      "Entry Exception! col:Q20, row: 1077, data:8\n",
      "User Exception! col:Q13, row: 1079, data:1,2\n",
      "User Exception! col:Q20, row: 1079, data:3,4\n",
      "Entry Exception! col:Q26, row: 1083, data:0\n",
      "Entry Exception! col:Q26, row: 1085, data:0\n",
      "Entry Exception! col:Q26, row: 1088, data:0\n",
      "Entry Exception! col:Q26, row: 1089, data:0\n",
      "Entry Exception! col:Q9, row: 1092, data:0,0,0,0,5\n",
      "Entry Exception! col:Q23, row: 1096, data:7\n",
      "1100\n",
      "Entry Exception! col:Q14, row: 1115, data:8\n",
      "Entry Exception! col:Q9, row: 1119, data:0,0,0\n",
      "Entry Exception! col:Q26, row: 1119, data:0\n",
      "Entry Exception! col:Q26, row: 1125, data:0\n",
      "Entry Exception! col:Q9, row: 1128, data:0,0,7\n",
      "Entry Exception! col:Q26, row: 1129, data:0\n",
      "Entry Exception! col:Q9, row: 1147, data:0,0,3\n"
     ]
    }
   ],
   "source": [
    "cleaned = pd.DataFrame()\n",
    "cols = table.columns\n",
    "#duplicate first to rows\n",
    "for col in cols[:2]:\n",
    "    cleaned[col] = table[col]\n",
    "for col in cols[2:]:\n",
    "    if params.at[0,col][2]:\n",
    "        for i in range(1,params.at[0,col][0]+1):\n",
    "            cleaned[col+f\"_{i}\"] = ''\n",
    "    else:\n",
    "        cleaned[col]=''\n",
    "cleaned['EntryException'] = ''\n",
    "cleaned['UserException'] = ''\n",
    "        \n",
    "for i in table.index:\n",
    "    if i%100 == 0:\n",
    "        print (i)\n",
    "    for col in cols[2:]:\n",
    "#        print (f\"col:{col}, row:{i}\")\n",
    "        try:\n",
    "            clean_data = sr.check_data(table[col].loc[i],params[col].loc[0][0],params[col].loc[0][1],params[col].loc[0][2],\n",
    "                                   params[col].loc[0][3],params[col].loc[0][4])\n",
    "            if params[col].loc[0][2]:  #if allow multi\n",
    "#                print (f'col:{col}, row: {i}, multi')\n",
    "                for n in range(1,params[col].loc[0][0]+1):\n",
    "                    cleaned[col+f'_{n}'].loc[i] = n in clean_data\n",
    "#                    print (n, n in clean_data)\n",
    "                if params[col].loc[0][3] and isinstance(clean_data[-1:][0],str): # if text allowed and last element has more than two characters\n",
    "#                    print (f\"TEXT INPUT: {col}, row: {i}, {clean_data[-1:]}\")\n",
    "                    cleaned[col+f'_{params[col].loc[0][4]}'].loc[i] = clean_data[-1:][0]\n",
    "            else:\n",
    "                if params[col].loc[0][3] and isinstance(clean_data[-1:][0],str):\n",
    "                    cleaned[col].loc[i] = clean_data[-1:][0]\n",
    "                else:\n",
    "                    cleaned[col].loc[i] = clean_data[0]\n",
    "                \n",
    "        except sr.EntryException as e:\n",
    "            cleaned['EntryException'].loc[i] += f\"{col}: '{table[col].loc[i]}'\"\n",
    "            print (f\"Entry Exception! col:{col}, row: {i}, data:{table[col].loc[i]}\")\n",
    "        except sr.UserException as e:\n",
    "            cleaned['UserException'].loc[i] += f\"{col}: '{table[col].loc[i]}'\"\n",
    "            print (f\"User Exception! col:{col}, row: {i}, data:{table[col].loc[i]}\")\n",
    "            \n",
    "        \n",
    "    "
   ]
  },
  {
   "cell_type": "code",
   "execution_count": 320,
   "id": "a040a272",
   "metadata": {},
   "outputs": [
    {
     "data": {
      "text/html": [
       "<div>\n",
       "<style scoped>\n",
       "    .dataframe tbody tr th:only-of-type {\n",
       "        vertical-align: middle;\n",
       "    }\n",
       "\n",
       "    .dataframe tbody tr th {\n",
       "        vertical-align: top;\n",
       "    }\n",
       "\n",
       "    .dataframe thead th {\n",
       "        text-align: right;\n",
       "    }\n",
       "</style>\n",
       "<table border=\"1\" class=\"dataframe\">\n",
       "  <thead>\n",
       "    <tr style=\"text-align: right;\">\n",
       "      <th></th>\n",
       "      <th>Timestamp</th>\n",
       "      <th>Data Operator Initials</th>\n",
       "      <th>Q1</th>\n",
       "      <th>Q2</th>\n",
       "      <th>Q3_1</th>\n",
       "      <th>Q3_2</th>\n",
       "      <th>Q3_3</th>\n",
       "      <th>Q3_4</th>\n",
       "      <th>Q3_5</th>\n",
       "      <th>Q3_6</th>\n",
       "      <th>...</th>\n",
       "      <th>Q21_9</th>\n",
       "      <th>Q21_10</th>\n",
       "      <th>Q22</th>\n",
       "      <th>Q23</th>\n",
       "      <th>Q24</th>\n",
       "      <th>Q25</th>\n",
       "      <th>Q26</th>\n",
       "      <th>Q27</th>\n",
       "      <th>EntryException</th>\n",
       "      <th>UserException</th>\n",
       "    </tr>\n",
       "  </thead>\n",
       "  <tbody>\n",
       "    <tr>\n",
       "      <th>0</th>\n",
       "      <td>9/19/2024 18:20:30</td>\n",
       "      <td>GP</td>\n",
       "      <td>1</td>\n",
       "      <td>2</td>\n",
       "      <td>False</td>\n",
       "      <td>False</td>\n",
       "      <td>False</td>\n",
       "      <td>False</td>\n",
       "      <td>False</td>\n",
       "      <td>False</td>\n",
       "      <td>...</td>\n",
       "      <td>False</td>\n",
       "      <td>False</td>\n",
       "      <td>2</td>\n",
       "      <td>1</td>\n",
       "      <td>2</td>\n",
       "      <td>RICCARTON</td>\n",
       "      <td>9</td>\n",
       "      <td>0</td>\n",
       "      <td></td>\n",
       "      <td></td>\n",
       "    </tr>\n",
       "    <tr>\n",
       "      <th>1</th>\n",
       "      <td>9/19/2024 18:19:36</td>\n",
       "      <td>GP</td>\n",
       "      <td>3</td>\n",
       "      <td>0</td>\n",
       "      <td>False</td>\n",
       "      <td>False</td>\n",
       "      <td>False</td>\n",
       "      <td>False</td>\n",
       "      <td>False</td>\n",
       "      <td>False</td>\n",
       "      <td>...</td>\n",
       "      <td>True</td>\n",
       "      <td>False</td>\n",
       "      <td>4</td>\n",
       "      <td>5</td>\n",
       "      <td>1</td>\n",
       "      <td>ILAM</td>\n",
       "      <td>9</td>\n",
       "      <td>0</td>\n",
       "      <td></td>\n",
       "      <td></td>\n",
       "    </tr>\n",
       "    <tr>\n",
       "      <th>2</th>\n",
       "      <td>9/19/2024 18:18:26</td>\n",
       "      <td>GP</td>\n",
       "      <td>1</td>\n",
       "      <td>5</td>\n",
       "      <td>False</td>\n",
       "      <td>False</td>\n",
       "      <td>False</td>\n",
       "      <td>True</td>\n",
       "      <td>False</td>\n",
       "      <td>False</td>\n",
       "      <td>...</td>\n",
       "      <td>True</td>\n",
       "      <td>False</td>\n",
       "      <td>3</td>\n",
       "      <td>6</td>\n",
       "      <td>3</td>\n",
       "      <td>RICCARTON</td>\n",
       "      <td>9</td>\n",
       "      <td>0</td>\n",
       "      <td></td>\n",
       "      <td></td>\n",
       "    </tr>\n",
       "    <tr>\n",
       "      <th>3</th>\n",
       "      <td>9/19/2024 18:17:16</td>\n",
       "      <td>GP</td>\n",
       "      <td>0</td>\n",
       "      <td>5</td>\n",
       "      <td>True</td>\n",
       "      <td>False</td>\n",
       "      <td>False</td>\n",
       "      <td>False</td>\n",
       "      <td>False</td>\n",
       "      <td>False</td>\n",
       "      <td>...</td>\n",
       "      <td>True</td>\n",
       "      <td>False</td>\n",
       "      <td>2</td>\n",
       "      <td>2</td>\n",
       "      <td>1</td>\n",
       "      <td>CANTURBURY</td>\n",
       "      <td>9</td>\n",
       "      <td>0</td>\n",
       "      <td></td>\n",
       "      <td></td>\n",
       "    </tr>\n",
       "    <tr>\n",
       "      <th>4</th>\n",
       "      <td>9/19/2024 18:16:16</td>\n",
       "      <td>GP</td>\n",
       "      <td>3</td>\n",
       "      <td>0</td>\n",
       "      <td>False</td>\n",
       "      <td>False</td>\n",
       "      <td>False</td>\n",
       "      <td>False</td>\n",
       "      <td>False</td>\n",
       "      <td>False</td>\n",
       "      <td>...</td>\n",
       "      <td>False</td>\n",
       "      <td>SOLOMON ISLANDS</td>\n",
       "      <td>2</td>\n",
       "      <td>6</td>\n",
       "      <td>2</td>\n",
       "      <td>RICCARTON</td>\n",
       "      <td>9</td>\n",
       "      <td>0</td>\n",
       "      <td></td>\n",
       "      <td></td>\n",
       "    </tr>\n",
       "  </tbody>\n",
       "</table>\n",
       "<p>5 rows × 62 columns</p>\n",
       "</div>"
      ],
      "text/plain": [
       "            Timestamp Data Operator Initials Q1 Q2   Q3_1   Q3_2   Q3_3  \\\n",
       "0  9/19/2024 18:20:30                     GP  1  2  False  False  False   \n",
       "1  9/19/2024 18:19:36                     GP  3  0  False  False  False   \n",
       "2  9/19/2024 18:18:26                     GP  1  5  False  False  False   \n",
       "3  9/19/2024 18:17:16                     GP  0  5   True  False  False   \n",
       "4  9/19/2024 18:16:16                     GP  3  0  False  False  False   \n",
       "\n",
       "    Q3_4   Q3_5   Q3_6  ...  Q21_9           Q21_10 Q22 Q23 Q24         Q25  \\\n",
       "0  False  False  False  ...  False            False   2   1   2   RICCARTON   \n",
       "1  False  False  False  ...   True            False   4   5   1        ILAM   \n",
       "2   True  False  False  ...   True            False   3   6   3   RICCARTON   \n",
       "3  False  False  False  ...   True            False   2   2   1  CANTURBURY   \n",
       "4  False  False  False  ...  False  SOLOMON ISLANDS   2   6   2   RICCARTON   \n",
       "\n",
       "  Q26 Q27 EntryException UserException  \n",
       "0   9   0                               \n",
       "1   9   0                               \n",
       "2   9   0                               \n",
       "3   9   0                               \n",
       "4   9   0                               \n",
       "\n",
       "[5 rows x 62 columns]"
      ]
     },
     "execution_count": 320,
     "metadata": {},
     "output_type": "execute_result"
    }
   ],
   "source": [
    "#don't allow duplicates and clean 7 of text input\n",
    "cleaned.head()"
   ]
  },
  {
   "cell_type": "code",
   "execution_count": 404,
   "id": "d62f69eb",
   "metadata": {
    "scrolled": false
   },
   "outputs": [],
   "source": [
    "cleaned.to_csv('test_8_22_09_24.csv')"
   ]
  },
  {
   "cell_type": "code",
   "execution_count": 398,
   "id": "9cd29a47",
   "metadata": {},
   "outputs": [
    {
     "data": {
      "text/plain": [
       "'10 kiribati'"
      ]
     },
     "execution_count": 398,
     "metadata": {},
     "output_type": "execute_result"
    }
   ],
   "source": [
    "d = table['Q21'].loc[271]\n",
    "d"
   ]
  },
  {
   "cell_type": "code",
   "execution_count": 401,
   "id": "db96a830",
   "metadata": {},
   "outputs": [
    {
     "data": {
      "text/plain": [
       "<module 'survey_routines' from 'C:\\\\GIT\\\\Parish-Survey\\\\survey_routines.py'>"
      ]
     },
     "execution_count": 401,
     "metadata": {},
     "output_type": "execute_result"
    }
   ],
   "source": [
    "importlib.reload(sr)"
   ]
  },
  {
   "cell_type": "code",
   "execution_count": 402,
   "id": "b9812f4c",
   "metadata": {},
   "outputs": [
    {
     "data": {
      "text/plain": [
       "[10, 'kiribati']"
      ]
     },
     "execution_count": 402,
     "metadata": {},
     "output_type": "execute_result"
    }
   ],
   "source": [
    "col = 'Q21'\n",
    "sr.check_data(d,params[col].loc[0][0],params[col].loc[0][1],params[col].loc[0][2],\n",
    "                                   params[col].loc[0][3],params[col].loc[0][4])"
   ]
  },
  {
   "cell_type": "code",
   "execution_count": 325,
   "id": "9df34598",
   "metadata": {},
   "outputs": [
    {
     "data": {
      "text/plain": [
       "'hellow there'"
      ]
     },
     "execution_count": 325,
     "metadata": {},
     "output_type": "execute_result"
    }
   ],
   "source": [
    "output = \"5 hellow there\"\n",
    "ts = output.split(' ')\n",
    "output = output[len(ts)-1:]\n",
    "output"
   ]
  },
  {
   "cell_type": "code",
   "execution_count": 399,
   "id": "15d9fb0c",
   "metadata": {},
   "outputs": [
    {
     "data": {
      "text/plain": [
       "'10 kiribati'"
      ]
     },
     "execution_count": 399,
     "metadata": {},
     "output_type": "execute_result"
    }
   ],
   "source": [
    "    data = table['Q21'].loc[271]\n",
    "    data "
   ]
  },
  {
   "cell_type": "code",
   "execution_count": 400,
   "id": "8b89b280",
   "metadata": {},
   "outputs": [
    {
     "name": "stdout",
     "output_type": "stream",
     "text": [
      "['10 kiribati']\n",
      "text: 10 kiribati\n",
      "['10', 'kiribati']\n",
      "10\n",
      "10\n",
      "cut\n",
      "['kiribati']\n"
     ]
    }
   ],
   "source": [
    "    text_no = 10\n",
    "    \n",
    "    \n",
    "    text = ''\n",
    "    output = list()\n",
    "    bits = data.split(',') #split by comma\n",
    "    print(bits)\n",
    "    if len(bits) > 1:\n",
    "    \n",
    "        bits.reverse()\n",
    "        print(bits)\n",
    "        found_num = False\n",
    "        for s in bits:\n",
    "            if s.isnumeric():\n",
    "                found_num = True\n",
    "                output.insert(0,s)\n",
    "            else:\n",
    "                if found_num:\n",
    "                    raise UserException()  #should not find non-numeric value after number\n",
    "                else:\n",
    "                    if len(text) > 0:\n",
    "                        text = s + \",\" + text\n",
    "                    else:\n",
    "                        text = s\n",
    "    \n",
    "    else:\n",
    "        text = bits[0]\n",
    "        \n",
    "    #now add \n",
    "    print (f\"text: {text}\")\n",
    "    if len(text) > 0:\n",
    "        #check if there's a number at the start and remove items\n",
    "        ts = text.split(\" \")\n",
    "        print (ts)\n",
    "        print (ts[0])\n",
    "        if ts[0].isnumeric():\n",
    "            print (ts[0])\n",
    "            if int(ts[0]) == text_no:\n",
    "                print(\"cut\")\n",
    "                text = text[len(ts[0])+1:]\n",
    "        output.append(text)\n",
    "                    \n",
    "    print(output)"
   ]
  },
  {
   "cell_type": "code",
   "execution_count": 387,
   "id": "a5488253",
   "metadata": {},
   "outputs": [
    {
     "data": {
      "text/plain": [
       "False"
      ]
     },
     "execution_count": 387,
     "metadata": {},
     "output_type": "execute_result"
    }
   ],
   "source": [
    "#data = ''\n",
    "data.isnumeric()"
   ]
  },
  {
   "cell_type": "code",
   "execution_count": 287,
   "id": "581892da",
   "metadata": {},
   "outputs": [],
   "source": [
    "db = d.split(',')\n",
    "db.reverse()"
   ]
  },
  {
   "cell_type": "code",
   "execution_count": 290,
   "id": "d4b64c4d",
   "metadata": {},
   "outputs": [
    {
     "data": {
      "text/plain": [
       "['1', '4', ' OVERCOME (MOVIES & SERIES),  THE CHOSEN']"
      ]
     },
     "execution_count": 290,
     "metadata": {},
     "output_type": "execute_result"
    }
   ],
   "source": [
    "found_num = False\n",
    "text = ''\n",
    "output = list()\n",
    "for s in db:\n",
    "    if s.isnumeric():\n",
    "        if found_num:\n",
    "            output.insert(0,s)\n",
    "        else:\n",
    "            found_num = True\n",
    "            if len(text) > 0:\n",
    "                output.insert(0,text)\n",
    "            output.insert(0,s)\n",
    "    else:\n",
    "        if found_num:\n",
    "            raise Exception()\n",
    "        else:\n",
    "            if len(text) > 0:\n",
    "                text = text + \", \" + s\n",
    "            else:\n",
    "                text = s\n",
    "output            "
   ]
  },
  {
   "cell_type": "code",
   "execution_count": 222,
   "id": "b06bf1a6",
   "metadata": {},
   "outputs": [],
   "source": [
    "cleaned = pd.DataFrame()"
   ]
  },
  {
   "cell_type": "code",
   "execution_count": 223,
   "id": "6661d32a",
   "metadata": {},
   "outputs": [
    {
     "data": {
      "text/html": [
       "<div>\n",
       "<style scoped>\n",
       "    .dataframe tbody tr th:only-of-type {\n",
       "        vertical-align: middle;\n",
       "    }\n",
       "\n",
       "    .dataframe tbody tr th {\n",
       "        vertical-align: top;\n",
       "    }\n",
       "\n",
       "    .dataframe thead th {\n",
       "        text-align: right;\n",
       "    }\n",
       "</style>\n",
       "<table border=\"1\" class=\"dataframe\">\n",
       "  <thead>\n",
       "    <tr style=\"text-align: right;\">\n",
       "      <th></th>\n",
       "    </tr>\n",
       "  </thead>\n",
       "  <tbody>\n",
       "  </tbody>\n",
       "</table>\n",
       "</div>"
      ],
      "text/plain": [
       "Empty DataFrame\n",
       "Columns: []\n",
       "Index: []"
      ]
     },
     "execution_count": 223,
     "metadata": {},
     "output_type": "execute_result"
    }
   ],
   "source": [
    "table"
   ]
  },
  {
   "cell_type": "code",
   "execution_count": null,
   "id": "d024e0a9",
   "metadata": {},
   "outputs": [],
   "source": []
  }
 ],
 "metadata": {
  "kernelspec": {
   "display_name": "Python 3 (ipykernel)",
   "language": "python",
   "name": "python3"
  },
  "language_info": {
   "codemirror_mode": {
    "name": "ipython",
    "version": 3
   },
   "file_extension": ".py",
   "mimetype": "text/x-python",
   "name": "python",
   "nbconvert_exporter": "python",
   "pygments_lexer": "ipython3",
   "version": "3.10.9"
  },
  "varInspector": {
   "cols": {
    "lenName": 16,
    "lenType": 16,
    "lenVar": 40
   },
   "kernels_config": {
    "python": {
     "delete_cmd_postfix": "",
     "delete_cmd_prefix": "del ",
     "library": "var_list.py",
     "varRefreshCmd": "print(var_dic_list())"
    },
    "r": {
     "delete_cmd_postfix": ") ",
     "delete_cmd_prefix": "rm(",
     "library": "var_list.r",
     "varRefreshCmd": "cat(var_dic_list()) "
    }
   },
   "types_to_exclude": [
    "module",
    "function",
    "builtin_function_or_method",
    "instance",
    "_Feature"
   ],
   "window_display": false
  }
 },
 "nbformat": 4,
 "nbformat_minor": 5
}
